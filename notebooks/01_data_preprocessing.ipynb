{
 "cells": [
  {
   "cell_type": "code",
   "execution_count": null,
   "metadata": {},
   "outputs": [],
   "source": [
    "# 01_data_preprocessing.ipynb\n",
    "\n",
    "import pandas as pd\n",
    "from src.data_processing import load_data, preprocess_data\n",
    "\n",
    "# Load data\n",
    "data_path = '../data/raw/parkinsons.csv'\n",
    "df = load_data(data_path)\n",
    "\n",
    "# Explore the data\n",
    "print(df.head())\n",
    "\n",
    "# Preprocess data\n",
    "X, y = preprocess_data(df)\n",
    "\n",
    "# Save the processed data\n",
    "processed_data_path = '../data/processed/parkinsons_cleaned.csv'\n",
    "pd.DataFrame(X).to_csv(processed_data_path, index=False)\n"
   ]
  }
 ],
 "metadata": {
  "language_info": {
   "name": "python"
  }
 },
 "nbformat": 4,
 "nbformat_minor": 2
}
